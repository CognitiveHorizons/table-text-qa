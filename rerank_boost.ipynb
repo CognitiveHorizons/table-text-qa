{
 "cells": [
  {
   "cell_type": "code",
   "execution_count": 1,
   "source": [
    "import json\n",
    "import numpy as np\n",
    "import sys\n",
    "import tqdm\n",
    "from sklearn.ensemble import AdaBoostClassifier\n",
    "from sklearn.datasets import make_classification"
   ],
   "outputs": [],
   "metadata": {}
  },
  {
   "cell_type": "code",
   "execution_count": 2,
   "source": [
    "dev_rs_logits = json.load(open('/mnt/infonas/data/yashgupta/data/row_selector_output/qid_logits_bert_large_dev.json'))"
   ],
   "outputs": [],
   "metadata": {}
  },
  {
   "cell_type": "code",
   "execution_count": 3,
   "source": [
    "dev_rc_logits = json.load(open('/tmp/nbest_predictions_dev_top5.json'))"
   ],
   "outputs": [],
   "metadata": {}
  },
  {
   "cell_type": "code",
   "execution_count": 4,
   "source": [
    "eval_scores = json.load(open('/tmp/dev_top5_scores.json'))"
   ],
   "outputs": [],
   "metadata": {}
  },
  {
   "cell_type": "code",
   "execution_count": 5,
   "source": [
    "def get_rs_score(q_id, rank):\n",
    "    return np.sort(np.array(dev_rs_logits[q_id]))[-5:][rank]\n",
    "\n",
    "X, y = [], []\n",
    "for k, v in dev_rc_logits.items():\n",
    "    feats = []\n",
    "    qid, rank = k.split('_')\n",
    "    feats.append(get_rs_score(qid, int(rank)))\n",
    "    # print(v)\n",
    "    feats.append(v[0]['start_logit'])\n",
    "    feats.append(v[0]['end_logit'])\n",
    "    X.append(feats)\n",
    "    y.append(eval_scores[k]['em-score'])"
   ],
   "outputs": [],
   "metadata": {}
  },
  {
   "cell_type": "code",
   "execution_count": 6,
   "source": [
    "X = np.array(X)\n",
    "y = np.array(y)\n",
    "print(X.shape, y.shape)"
   ],
   "outputs": [
    {
     "output_type": "stream",
     "name": "stdout",
     "text": [
      "(17330, 3) (17330,)\n"
     ]
    }
   ],
   "metadata": {}
  },
  {
   "cell_type": "code",
   "execution_count": 7,
   "source": [
    "clf = AdaBoostClassifier(n_estimators=100, random_state=0)"
   ],
   "outputs": [],
   "metadata": {}
  },
  {
   "cell_type": "code",
   "execution_count": 8,
   "source": [
    "clf.fit(X, y)"
   ],
   "outputs": [
    {
     "output_type": "execute_result",
     "data": {
      "text/plain": [
       "AdaBoostClassifier(n_estimators=100, random_state=0)"
      ]
     },
     "metadata": {},
     "execution_count": 8
    }
   ],
   "metadata": {}
  },
  {
   "cell_type": "code",
   "execution_count": 9,
   "source": [
    "clf.predict_proba([[0, 0, 0]])"
   ],
   "outputs": [
    {
     "output_type": "execute_result",
     "data": {
      "text/plain": [
       "array([[0.5105333, 0.4894667]])"
      ]
     },
     "metadata": {},
     "execution_count": 9
    }
   ],
   "metadata": {}
  },
  {
   "cell_type": "code",
   "execution_count": 10,
   "source": [
    "clf.score(X, y)"
   ],
   "outputs": [
    {
     "output_type": "execute_result",
     "data": {
      "text/plain": [
       "0.8691863819965377"
      ]
     },
     "metadata": {},
     "execution_count": 10
    }
   ],
   "metadata": {}
  },
  {
   "cell_type": "code",
   "execution_count": 11,
   "source": [
    "from tqdm.notebook import tqdm\n",
    "fnd = {}\n",
    "for k, v in tqdm(dev_rc_logits.items()):\n",
    "    feats = []\n",
    "    qid, rank = k.split('_')\n",
    "    feats.append(get_rs_score(qid, int(rank)))\n",
    "    # print(v)\n",
    "    feats.append(v[0]['start_logit'])\n",
    "    feats.append(v[0]['end_logit'])\n",
    "    prob = clf.predict_proba([feats])[0][1]\n",
    "    if qid not in fnd.keys():\n",
    "        fnd[qid] = [prob, rank, eval_scores[k]['em-score'], eval_scores[k]['f1-score']]\n",
    "    elif fnd[qid][0] < prob:\n",
    "         fnd[qid] = [prob, rank, eval_scores[k]['em-score'], eval_scores[k]['f1-score']]"
   ],
   "outputs": [
    {
     "output_type": "display_data",
     "data": {
      "text/plain": [
       "  0%|          | 0/17330 [00:00<?, ?it/s]"
      ],
      "application/vnd.jupyter.widget-view+json": {
       "version_major": 2,
       "version_minor": 0,
       "model_id": "d5b6b8f1397d46a7aa012b717755b86c"
      }
     },
     "metadata": {}
    }
   ],
   "metadata": {}
  },
  {
   "cell_type": "code",
   "execution_count": 12,
   "source": [
    "len(fnd)"
   ],
   "outputs": [
    {
     "output_type": "execute_result",
     "data": {
      "text/plain": [
       "3466"
      ]
     },
     "metadata": {},
     "execution_count": 12
    }
   ],
   "metadata": {}
  },
  {
   "cell_type": "code",
   "execution_count": 14,
   "source": [
    "ems = np.array([x[2] for x in fnd.values()])\n",
    "f1s = np.array([x[3] for x in fnd.values()])"
   ],
   "outputs": [],
   "metadata": {}
  },
  {
   "cell_type": "code",
   "execution_count": 15,
   "source": [
    "ems.mean()"
   ],
   "outputs": [
    {
     "output_type": "execute_result",
     "data": {
      "text/plain": [
       "0.5874206578188114"
      ]
     },
     "metadata": {},
     "execution_count": 15
    }
   ],
   "metadata": {}
  },
  {
   "cell_type": "code",
   "execution_count": 17,
   "source": [
    "f1s.mean()"
   ],
   "outputs": [
    {
     "output_type": "execute_result",
     "data": {
      "text/plain": [
       "0.6561356874701547"
      ]
     },
     "metadata": {},
     "execution_count": 17
    }
   ],
   "metadata": {}
  },
  {
   "cell_type": "code",
   "execution_count": 18,
   "source": [
    "clf.feature_importances_"
   ],
   "outputs": [
    {
     "output_type": "execute_result",
     "data": {
      "text/plain": [
       "array([0.42, 0.28, 0.3 ])"
      ]
     },
     "metadata": {},
     "execution_count": 18
    }
   ],
   "metadata": {}
  },
  {
   "cell_type": "code",
   "execution_count": 19,
   "source": [
    "from sklearn.ensemble import AdaBoostRegressor\n",
    "from sklearn.datasets import make_regression\n",
    "regr = AdaBoostRegressor(random_state=0, n_estimators=100)"
   ],
   "outputs": [],
   "metadata": {}
  },
  {
   "cell_type": "code",
   "execution_count": 20,
   "source": [
    "X, y = [], []\n",
    "for k, v in dev_rc_logits.items():\n",
    "    feats = []\n",
    "    qid, rank = k.split('_')\n",
    "    feats.append(get_rs_score(qid, int(rank)))\n",
    "    # print(v)\n",
    "    feats.append(v[0]['start_logit'])\n",
    "    feats.append(v[0]['end_logit'])\n",
    "    X.append(feats)\n",
    "    y.append(eval_scores[k]['f1-score'])"
   ],
   "outputs": [],
   "metadata": {}
  },
  {
   "cell_type": "code",
   "execution_count": 21,
   "source": [
    "regr.fit(X, y)"
   ],
   "outputs": [
    {
     "output_type": "execute_result",
     "data": {
      "text/plain": [
       "AdaBoostRegressor(n_estimators=100, random_state=0)"
      ]
     },
     "metadata": {},
     "execution_count": 21
    }
   ],
   "metadata": {}
  },
  {
   "cell_type": "code",
   "execution_count": 23,
   "source": [
    "regr.score(X, y)"
   ],
   "outputs": [
    {
     "output_type": "execute_result",
     "data": {
      "text/plain": [
       "0.40254726245483985"
      ]
     },
     "metadata": {},
     "execution_count": 23
    }
   ],
   "metadata": {}
  },
  {
   "cell_type": "code",
   "execution_count": 25,
   "source": [
    "regr.predict([[0, 0, 0]])"
   ],
   "outputs": [
    {
     "output_type": "execute_result",
     "data": {
      "text/plain": [
       "array([0.13732496])"
      ]
     },
     "metadata": {},
     "execution_count": 25
    }
   ],
   "metadata": {}
  },
  {
   "cell_type": "code",
   "execution_count": 26,
   "source": [
    "from tqdm.notebook import tqdm\n",
    "fnd = {}\n",
    "for k, v in tqdm(dev_rc_logits.items()):\n",
    "    feats = []\n",
    "    qid, rank = k.split('_')\n",
    "    feats.append(get_rs_score(qid, int(rank)))\n",
    "    # print(v)\n",
    "    feats.append(v[0]['start_logit'])\n",
    "    feats.append(v[0]['end_logit'])\n",
    "    prob = regr.predict([feats])[0]\n",
    "    if qid not in fnd.keys():\n",
    "        fnd[qid] = [prob, rank, eval_scores[k]['em-score'], eval_scores[k]['f1-score']]\n",
    "    elif fnd[qid][0] < prob:\n",
    "         fnd[qid] = [prob, rank, eval_scores[k]['em-score'], eval_scores[k]['f1-score']]"
   ],
   "outputs": [
    {
     "output_type": "display_data",
     "data": {
      "text/plain": [
       "  0%|          | 0/17330 [00:00<?, ?it/s]"
      ],
      "application/vnd.jupyter.widget-view+json": {
       "version_major": 2,
       "version_minor": 0,
       "model_id": "39a82208bd6c4f50ab7796fd6caa8320"
      }
     },
     "metadata": {}
    }
   ],
   "metadata": {}
  },
  {
   "cell_type": "code",
   "execution_count": 27,
   "source": [
    "ems = np.array([x[2] for x in fnd.values()])\n",
    "f1s = np.array([x[3] for x in fnd.values()])"
   ],
   "outputs": [],
   "metadata": {}
  },
  {
   "cell_type": "code",
   "execution_count": 28,
   "source": [
    "ems.mean()"
   ],
   "outputs": [
    {
     "output_type": "execute_result",
     "data": {
      "text/plain": [
       "0.5614541257934218"
      ]
     },
     "metadata": {},
     "execution_count": 28
    }
   ],
   "metadata": {}
  },
  {
   "cell_type": "code",
   "execution_count": 29,
   "source": [
    "f1s.mean()"
   ],
   "outputs": [
    {
     "output_type": "execute_result",
     "data": {
      "text/plain": [
       "0.6327459560885017"
      ]
     },
     "metadata": {},
     "execution_count": 29
    }
   ],
   "metadata": {}
  },
  {
   "cell_type": "code",
   "execution_count": null,
   "source": [],
   "outputs": [],
   "metadata": {}
  }
 ],
 "metadata": {
  "orig_nbformat": 4,
  "language_info": {
   "name": "python",
   "version": "3.8.8",
   "mimetype": "text/x-python",
   "codemirror_mode": {
    "name": "ipython",
    "version": 3
   },
   "pygments_lexer": "ipython3",
   "nbconvert_exporter": "python",
   "file_extension": ".py"
  },
  "kernelspec": {
   "name": "python3",
   "display_name": "Python 3.8.8 64-bit ('base': conda)"
  },
  "interpreter": {
   "hash": "a9a327da903e20c24c9e613c48742f202ca4370c49254bdcc98e7ef6e4615685"
  }
 },
 "nbformat": 4,
 "nbformat_minor": 2
}